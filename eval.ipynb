{
 "cells": [
  {
   "cell_type": "code",
   "execution_count": null,
   "metadata": {},
   "outputs": [],
   "source": [
    "import pandas as pd\n",
    "import json"
   ]
  },
  {
   "cell_type": "code",
   "execution_count": null,
   "metadata": {},
   "outputs": [],
   "source": [
    "def evaluate(df, label):\n",
    "    \"\"\" Compute recall, precision, and F1 \"\"\"\n",
    "    # compute recall\n",
    "    recall_df = df[df[\"label\"] == label]\n",
    "    recall_count = 0\n",
    "    for _, row in recall_df.iterrows():\n",
    "        if row[\"label\"] == row[\"predictions\"]:\n",
    "            recall_count += 1\n",
    "    recall = recall_count / recall_df.shape[0] # denom could be 0 but this never actually happens\n",
    "\n",
    "    # compute precision\n",
    "    precision_df = df[df[\"predictions\"] == label]\n",
    "    precision_count = 0\n",
    "    for _, row in precision_df.iterrows():\n",
    "        if row[\"label\"] == row[\"predictions\"]:\n",
    "            precision_count += 1\n",
    "    precision = precision_count / precision_df.shape[0] # denom could be 0 but this never actually happens\n",
    "    \n",
    "    return round(recall, 2), round(precision, 2), round((2*recall*precision) / (recall + precision), 2)"
   ]
  },
  {
   "cell_type": "code",
   "execution_count": null,
   "metadata": {},
   "outputs": [],
   "source": [
    "def eval_entry(json_file, dataset):\n",
    "    df = pd.read_csv(dataset)\n",
    "    with open(json_file) as f:\n",
    "        _preds = json.load(f)\n",
    "        _preds = {int(_key):_preds[_key] for _key in _preds}\n",
    "    df[\"predictions\"] = [_preds[id] for id in df[\"id\"]]\n",
    "\n",
    "    true_recall, true_precision, true_f1 = evaluate(df, True)\n",
    "    false_recall, false_precision, false_f1 = evaluate(df, False)\n",
    "\n",
    "    eval_records = []\n",
    "    eval_records.append({\"label\": True, \"precision\": true_precision, \"recall\": true_recall, \"f1\": true_f1})\n",
    "    eval_records.append({\"label\": False, \"precision\": false_precision, \"recall\": false_recall, \"f1\": false_f1})\n",
    "    eval_records = pd.DataFrame.from_records(eval_records)\n",
    "\n",
    "    f1_scores = []\n",
    "    f1_scores.append({\"f1 type\": \"macro-f1\", \"score\": round((true_f1 + false_f1) / 2, 2)})\n",
    "    prop_true_examples = df[df[\"label\"] == True].shape[0] / df.shape[0]\n",
    "    prop_false_examples = df[df[\"label\"] == False].shape[0] / df.shape[0]\n",
    "    f1_scores.append({\"f1 type\": \"weighted-f1\", \"score\": round((true_f1 * prop_true_examples) + (false_f1 * prop_false_examples), 2)})\n",
    "    f1_scores = pd.DataFrame.from_records(f1_scores)\n",
    "    return eval_records, f1_scores"
   ]
  },
  {
   "cell_type": "code",
   "execution_count": null,
   "metadata": {},
   "outputs": [],
   "source": [
    "eval_records, f1_scores = eval_entry(\"predictions.json\", # output from cli.py\n",
    "                                     \"datasets/bingcheck_sampled.csv\") # path to dataset with ground truth labels\n",
    "print(eval_records)\n",
    "print(\"\\n\")\n",
    "print(f1_scores)"
   ]
  },
  {
   "cell_type": "code",
   "execution_count": null,
   "metadata": {},
   "outputs": [],
   "source": []
  }
 ],
 "metadata": {
  "kernelspec": {
   "display_name": "venv",
   "language": "python",
   "name": "python3"
  },
  "language_info": {
   "codemirror_mode": {
    "name": "ipython",
    "version": 3
   },
   "file_extension": ".py",
   "mimetype": "text/x-python",
   "name": "python",
   "nbconvert_exporter": "python",
   "pygments_lexer": "ipython3",
   "version": "3.10.0"
  }
 },
 "nbformat": 4,
 "nbformat_minor": 2
}
